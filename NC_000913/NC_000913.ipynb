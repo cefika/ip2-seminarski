{
 "cells": [
  {
   "cell_type": "code",
   "execution_count": 1,
   "id": "1fb5b617-70b3-4afa-ac96-ea178e629e9b",
   "metadata": {},
   "outputs": [],
   "source": [
    "import pandas as pd"
   ]
  },
  {
   "cell_type": "code",
   "execution_count": 2,
   "id": "55eff18f-4b45-463b-99ce-09253682eab5",
   "metadata": {},
   "outputs": [],
   "source": [
    "presek=[]\n",
    "van=[]\n",
    "unutra=[]"
   ]
  },
  {
   "cell_type": "code",
   "execution_count": 3,
   "id": "8525e20d-930c-4091-b85a-02232f32ea54",
   "metadata": {},
   "outputs": [],
   "source": [
    "df_cpai = pd.read_csv(\"./NC_000913.cpai\" ,sep=' ')"
   ]
  },
  {
   "cell_type": "code",
   "execution_count": 4,
   "id": "1577c912-afcb-498a-9682-c422ef3b8bf4",
   "metadata": {},
   "outputs": [
    {
     "data": {
      "text/html": [
       "<div>\n",
       "<style scoped>\n",
       "    .dataframe tbody tr th:only-of-type {\n",
       "        vertical-align: middle;\n",
       "    }\n",
       "\n",
       "    .dataframe tbody tr th {\n",
       "        vertical-align: top;\n",
       "    }\n",
       "\n",
       "    .dataframe thead th {\n",
       "        text-align: right;\n",
       "    }\n",
       "</style>\n",
       "<table border=\"1\" class=\"dataframe\">\n",
       "  <thead>\n",
       "    <tr style=\"text-align: right;\">\n",
       "      <th></th>\n",
       "      <th>start</th>\n",
       "      <th>end</th>\n",
       "    </tr>\n",
       "  </thead>\n",
       "  <tbody>\n",
       "    <tr>\n",
       "      <th>0</th>\n",
       "      <td>257908</td>\n",
       "      <td>270540</td>\n",
       "    </tr>\n",
       "    <tr>\n",
       "      <th>1</th>\n",
       "      <td>2068952</td>\n",
       "      <td>2077943</td>\n",
       "    </tr>\n",
       "    <tr>\n",
       "      <th>2</th>\n",
       "      <td>2987536</td>\n",
       "      <td>2999057</td>\n",
       "    </tr>\n",
       "    <tr>\n",
       "      <th>3</th>\n",
       "      <td>4509804</td>\n",
       "      <td>4518235</td>\n",
       "    </tr>\n",
       "  </tbody>\n",
       "</table>\n",
       "</div>"
      ],
      "text/plain": [
       "     start      end\n",
       "0   257908   270540\n",
       "1  2068952  2077943\n",
       "2  2987536  2999057\n",
       "3  4509804  4518235"
      ]
     },
     "execution_count": 4,
     "metadata": {},
     "output_type": "execute_result"
    }
   ],
   "source": [
    "df_cpai"
   ]
  },
  {
   "cell_type": "code",
   "execution_count": 5,
   "id": "6138a9e4-cfcd-48b0-a9c5-3fad1f6ac30d",
   "metadata": {},
   "outputs": [],
   "source": [
    "df_npain=pd.read_csv(\"./NC_000913.npai\", sep=' ')"
   ]
  },
  {
   "cell_type": "code",
   "execution_count": 6,
   "id": "c9496aef-9848-492b-afa4-1f5e4bacc4c0",
   "metadata": {},
   "outputs": [
    {
     "data": {
      "text/html": [
       "<div>\n",
       "<style scoped>\n",
       "    .dataframe tbody tr th:only-of-type {\n",
       "        vertical-align: middle;\n",
       "    }\n",
       "\n",
       "    .dataframe tbody tr th {\n",
       "        vertical-align: top;\n",
       "    }\n",
       "\n",
       "    .dataframe thead th {\n",
       "        text-align: right;\n",
       "    }\n",
       "</style>\n",
       "<table border=\"1\" class=\"dataframe\">\n",
       "  <thead>\n",
       "    <tr style=\"text-align: right;\">\n",
       "      <th></th>\n",
       "      <th>start</th>\n",
       "      <th>end</th>\n",
       "    </tr>\n",
       "  </thead>\n",
       "  <tbody>\n",
       "    <tr>\n",
       "      <th>0</th>\n",
       "      <td>2280632</td>\n",
       "      <td>2297644</td>\n",
       "    </tr>\n",
       "    <tr>\n",
       "      <th>1</th>\n",
       "      <td>3070165</td>\n",
       "      <td>3081635</td>\n",
       "    </tr>\n",
       "    <tr>\n",
       "      <th>2</th>\n",
       "      <td>3110366</td>\n",
       "      <td>3130143</td>\n",
       "    </tr>\n",
       "  </tbody>\n",
       "</table>\n",
       "</div>"
      ],
      "text/plain": [
       "     start      end\n",
       "0  2280632  2297644\n",
       "1  3070165  3081635\n",
       "2  3110366  3130143"
      ]
     },
     "execution_count": 6,
     "metadata": {},
     "output_type": "execute_result"
    }
   ],
   "source": [
    "df_npain"
   ]
  },
  {
   "cell_type": "code",
   "execution_count": 7,
   "id": "48fbf74c-0d76-476f-b9d1-1e71bf258e00",
   "metadata": {},
   "outputs": [],
   "source": [
    "df_fasta=pd.read_csv(\"./izlaz.load\")"
   ]
  },
  {
   "cell_type": "code",
   "execution_count": 8,
   "id": "6fc3bbc7-fc0f-49f6-95cc-47913e43cde6",
   "metadata": {
    "scrolled": true
   },
   "outputs": [
    {
     "data": {
      "text/html": [
       "<div>\n",
       "<style scoped>\n",
       "    .dataframe tbody tr th:only-of-type {\n",
       "        vertical-align: middle;\n",
       "    }\n",
       "\n",
       "    .dataframe tbody tr th {\n",
       "        vertical-align: top;\n",
       "    }\n",
       "\n",
       "    .dataframe thead th {\n",
       "        text-align: right;\n",
       "    }\n",
       "</style>\n",
       "<table border=\"1\" class=\"dataframe\">\n",
       "  <thead>\n",
       "    <tr style=\"text-align: right;\">\n",
       "      <th></th>\n",
       "      <th>id</th>\n",
       "      <th>start_left</th>\n",
       "      <th>end_left</th>\n",
       "      <th>start_right</th>\n",
       "      <th>end_right</th>\n",
       "      <th>len</th>\n",
       "      <th>niska</th>\n",
       "      <th>niska2</th>\n",
       "    </tr>\n",
       "  </thead>\n",
       "  <tbody>\n",
       "    <tr>\n",
       "      <th>0</th>\n",
       "      <td>NC_000913.3</td>\n",
       "      <td>2284070</td>\n",
       "      <td>2284082</td>\n",
       "      <td>2785197</td>\n",
       "      <td>2785209</td>\n",
       "      <td>13</td>\n",
       "      <td>AAAAAAAACCGTT</td>\n",
       "      <td>AAAAAAAACCGTT</td>\n",
       "    </tr>\n",
       "    <tr>\n",
       "      <th>1</th>\n",
       "      <td>NC_000913.3</td>\n",
       "      <td>2976102</td>\n",
       "      <td>2976119</td>\n",
       "      <td>2976304</td>\n",
       "      <td>2976321</td>\n",
       "      <td>18</td>\n",
       "      <td>AAAAAAAACCTGCGCATC</td>\n",
       "      <td>AAAAAAAACCTGCGCATC</td>\n",
       "    </tr>\n",
       "    <tr>\n",
       "      <th>2</th>\n",
       "      <td>NC_000913.3</td>\n",
       "      <td>584187</td>\n",
       "      <td>584199</td>\n",
       "      <td>2816585</td>\n",
       "      <td>2816597</td>\n",
       "      <td>13</td>\n",
       "      <td>AAAAAAAAGATTA</td>\n",
       "      <td>AAAAAAAAGATTA</td>\n",
       "    </tr>\n",
       "    <tr>\n",
       "      <th>3</th>\n",
       "      <td>NC_000913.3</td>\n",
       "      <td>3580923</td>\n",
       "      <td>3580936</td>\n",
       "      <td>3915501</td>\n",
       "      <td>3915514</td>\n",
       "      <td>14</td>\n",
       "      <td>AAAAAAAAGCCAGC</td>\n",
       "      <td>AAAAAAAAGCCAGC</td>\n",
       "    </tr>\n",
       "    <tr>\n",
       "      <th>4</th>\n",
       "      <td>NC_000913.3</td>\n",
       "      <td>837435</td>\n",
       "      <td>837448</td>\n",
       "      <td>1097524</td>\n",
       "      <td>1097537</td>\n",
       "      <td>14</td>\n",
       "      <td>AAAAAAAAGCCCGT</td>\n",
       "      <td>AAAAAAAAGCCCGT</td>\n",
       "    </tr>\n",
       "    <tr>\n",
       "      <th>...</th>\n",
       "      <td>...</td>\n",
       "      <td>...</td>\n",
       "      <td>...</td>\n",
       "      <td>...</td>\n",
       "      <td>...</td>\n",
       "      <td>...</td>\n",
       "      <td>...</td>\n",
       "      <td>...</td>\n",
       "    </tr>\n",
       "    <tr>\n",
       "      <th>351848</th>\n",
       "      <td>NC_000913.3</td>\n",
       "      <td>430521</td>\n",
       "      <td>430533</td>\n",
       "      <td>584480</td>\n",
       "      <td>584492</td>\n",
       "      <td>13</td>\n",
       "      <td>TTTTTTTTGATGT</td>\n",
       "      <td>TTTTTTTTGATGT</td>\n",
       "    </tr>\n",
       "    <tr>\n",
       "      <th>351849</th>\n",
       "      <td>NC_000913.3</td>\n",
       "      <td>2757983</td>\n",
       "      <td>2757995</td>\n",
       "      <td>3664104</td>\n",
       "      <td>3664116</td>\n",
       "      <td>13</td>\n",
       "      <td>TTTTTTTTGATTA</td>\n",
       "      <td>TTTTTTTTGATTA</td>\n",
       "    </tr>\n",
       "    <tr>\n",
       "      <th>351850</th>\n",
       "      <td>NC_000913.3</td>\n",
       "      <td>1409243</td>\n",
       "      <td>1409256</td>\n",
       "      <td>4060273</td>\n",
       "      <td>4060286</td>\n",
       "      <td>14</td>\n",
       "      <td>TTTTTTTTGCCTGT</td>\n",
       "      <td>TTTTTTTTGCCTGT</td>\n",
       "    </tr>\n",
       "    <tr>\n",
       "      <th>351851</th>\n",
       "      <td>NC_000913.3</td>\n",
       "      <td>1579864</td>\n",
       "      <td>1579876</td>\n",
       "      <td>3385846</td>\n",
       "      <td>3385858</td>\n",
       "      <td>13</td>\n",
       "      <td>TTTTTTTTGCGCT</td>\n",
       "      <td>TTTTTTTTGCGCT</td>\n",
       "    </tr>\n",
       "    <tr>\n",
       "      <th>351852</th>\n",
       "      <td>NC_000913.3</td>\n",
       "      <td>2900560</td>\n",
       "      <td>2900573</td>\n",
       "      <td>4410046</td>\n",
       "      <td>4410059</td>\n",
       "      <td>14</td>\n",
       "      <td>TTTTTTTTGTCTAT</td>\n",
       "      <td>TTTTTTTTGTCTAT</td>\n",
       "    </tr>\n",
       "  </tbody>\n",
       "</table>\n",
       "<p>351853 rows × 8 columns</p>\n",
       "</div>"
      ],
      "text/plain": [
       "                 id  start_left  end_left  start_right  end_right  len  \\\n",
       "0       NC_000913.3     2284070   2284082      2785197    2785209   13   \n",
       "1       NC_000913.3     2976102   2976119      2976304    2976321   18   \n",
       "2       NC_000913.3      584187    584199      2816585    2816597   13   \n",
       "3       NC_000913.3     3580923   3580936      3915501    3915514   14   \n",
       "4       NC_000913.3      837435    837448      1097524    1097537   14   \n",
       "...             ...         ...       ...          ...        ...  ...   \n",
       "351848  NC_000913.3      430521    430533       584480     584492   13   \n",
       "351849  NC_000913.3     2757983   2757995      3664104    3664116   13   \n",
       "351850  NC_000913.3     1409243   1409256      4060273    4060286   14   \n",
       "351851  NC_000913.3     1579864   1579876      3385846    3385858   13   \n",
       "351852  NC_000913.3     2900560   2900573      4410046    4410059   14   \n",
       "\n",
       "                     niska              niska2  \n",
       "0            AAAAAAAACCGTT       AAAAAAAACCGTT  \n",
       "1       AAAAAAAACCTGCGCATC  AAAAAAAACCTGCGCATC  \n",
       "2            AAAAAAAAGATTA       AAAAAAAAGATTA  \n",
       "3           AAAAAAAAGCCAGC      AAAAAAAAGCCAGC  \n",
       "4           AAAAAAAAGCCCGT      AAAAAAAAGCCCGT  \n",
       "...                    ...                 ...  \n",
       "351848       TTTTTTTTGATGT       TTTTTTTTGATGT  \n",
       "351849       TTTTTTTTGATTA       TTTTTTTTGATTA  \n",
       "351850      TTTTTTTTGCCTGT      TTTTTTTTGCCTGT  \n",
       "351851       TTTTTTTTGCGCT       TTTTTTTTGCGCT  \n",
       "351852      TTTTTTTTGTCTAT      TTTTTTTTGTCTAT  \n",
       "\n",
       "[351853 rows x 8 columns]"
      ]
     },
     "execution_count": 8,
     "metadata": {},
     "output_type": "execute_result"
    }
   ],
   "source": [
    "df_fasta"
   ]
  },
  {
   "cell_type": "code",
   "execution_count": 9,
   "id": "970ced0d-e4c4-4fd2-b0d1-b8de5d4d410d",
   "metadata": {},
   "outputs": [
    {
     "data": {
      "text/plain": [
       "2814824"
      ]
     },
     "execution_count": 9,
     "metadata": {},
     "output_type": "execute_result"
    }
   ],
   "source": [
    "df_fasta.size"
   ]
  },
  {
   "cell_type": "code",
   "execution_count": 10,
   "id": "07b09dc1-8982-4c80-914a-e3c8fb9283ec",
   "metadata": {},
   "outputs": [],
   "source": [
    "for fasta_start in df_fasta.values:\n",
    "    for cpai in df_cpai.values:\n",
    "        if((fasta_start[1] < cpai[0] and fasta_start[2] < cpai[1]) or (fasta_start[1] > cpai[0] and fasta_start[2] > cpai[1])):\n",
    "            van.append(fasta_start)"
   ]
  },
  {
   "cell_type": "code",
   "execution_count": 11,
   "id": "79e44eb8-08b6-4dfd-951f-c6d6d605b993",
   "metadata": {},
   "outputs": [],
   "source": [
    "for fasta_start in df_fasta.values:\n",
    "    for cpai in df_cpai.values:\n",
    "        if((fasta_start[1] < cpai[0] and fasta_start[2] >=cpai[0]) or (fasta_start[1]<=cpai[0] and fasta_start[2] > cpai[1]) or (fasta_start[3] < cpai[0] and fasta_start[4] >=cpai[0]) or (fasta_start[3]<=cpai[0] and fasta_start[4] > cpai[1])):\n",
    "            presek.append(fasta_start)"
   ]
  },
  {
   "cell_type": "code",
   "execution_count": 12,
   "id": "842bbe96-9daf-4f0b-89a6-e87533f44e5e",
   "metadata": {},
   "outputs": [],
   "source": [
    "for fasta_start in df_fasta.values:\n",
    "    for cpai in df_cpai.values:\n",
    "        if((fasta_start[1] >=cpai[0] and fasta_start[2] <=cpai[1]) or fasta_start[3] >=cpai[0] and fasta_start[4] <=cpai[1]):\n",
    "            unutra.append(fasta_start)"
   ]
  },
  {
   "cell_type": "code",
   "execution_count": 13,
   "id": "a8c9d5ff-9812-4d67-81a6-3d35cf62b143",
   "metadata": {},
   "outputs": [
    {
     "name": "stdout",
     "output_type": "stream",
     "text": [
      "CPAI presek dc NC_000913.3 1071633 1071646 AACAGACTACCTGA\n",
      "CPAI presek dc NC_000913.3 1804150 1804162 ATTTGCCCCTATA\n",
      "CPAI presek dc NC_000913.3 1467909 1469240 CTGGATTTGCCCCTATATTTCCAGACATCTGTTATCACTTAACCCATTACAAGCCCGCTGCCGCAGATATTCCCGTGGCGAGCGATAACCCAGCGCACTATGCGGATGCCATTCGTTATAATGCTCGAACGCCTCTGCAAGGTTCTTTGCTGCCGTTAACCCGTCTGGTTTGGGCATGATACTGATGTAGTCACGCTTTATCGTTTTCACGAAGCTCTCTGCTATTCCGTTACTCTCCGGACTCCGCACCGCCGTGTTCTTCGGTTCAAGTCCCAACATCCGGGCGAACTGGCGTGTTTCATTAGCCCGGTAGCATGAACCATTATCCGTCAGCCACTCCACTGGAGACGACGGAAGATCGTTGCCGAAGCGGCGTTCCACCGCTCCCAGCATGACGTCCTGTACTGTTTCACTGTTGAAGCCGCCGGTAGTGACCGCCCAGTGCAGTGCCTCACGATCACAGCAGTCCAGCGCGAACGTGACACGCAGTCTCTCTCCGTTATCACAGCAGAACTCGAACCCGTCAGAGCACCATCGCTGATTGCTTTCTTTCACGGCCACTCTGCCTGTATGTGCCCGTTTCGATGGCGGTACAGCAGGTTTTCGCTCAAGCAACAGCGCATTCTGGCGCATGATCCGGTAAACACGTTTGGCATTGATCGCAGGCATACCATCAAGTTCTGCCTGTCTGCGAAGCAGCGCCCATACCCGACGATAACCATACGTTGGCAGCTCTCCGATAACATGGTGTATACGGAGAAGCACATCCGTATCATCAGTGTGACGACTGCGGCGGCCATCCATCCAGTCATCGGTTCGTCTGAGAATGACGTGCAACTGCGCACGCGACACCCGGAGACAACGGCTGACTAAGCTTACTCCCCATCCCCGGGCAATAAGGGCGCGTGCGCTATCCACTTTTTTGCCCGTCCATATTCAACGGCTTCTTTGAGGAGTTCATTTTCCATCGTTTTCTTGCCGAGCAGGCGCTGGAGTTCTTTAATCTGCTTCATGGCGGCAGCAAGTTCAGAGGCAGGAACAACCTGTTCTCCGGCGGCGACAGCAGTAAGACTTCCTTCCTGGTATTGCTTACGCCAGAGAAATAACTGGCTGGCTGCTACACCATGTTGCCGGGCAACGAGGGAGACCGTCATCCCCGGTTCAAAGCTCTGCTGAACAATTGCGATCTTTTCCTGTGTGGTACGCCGTCTGCGTTTCTCCGGCCCTAAGACATCAATCATCTGTTCTCCAATGACTAGTCTAAAAACTAGTATTAAGACTATCACTTATTTAAGTGATATTGGTTGTCTGGAGATTCAGGGGGCCAGTCTA\n",
      "CPAI presek dc NC_000913.3 2021630 2021642 GGATTTGCCCCTA\n",
      "CPAI presek dc NC_000913.3 2068941 2070271 TGGATTTGCCCCTATATTTCCAGACATCTGTTATCACTTAACCCATTACAAGCCCGCTGCCGCAGATATTCCCGTGGCGAGCGATAACCCAGCGCACTATGCGGATGCCATTCGTTATAATGCTCGAACGCCTCTGCAAGGTTCTTTGCTGCCGTTAACCCGTCTGGTTTGGGCATGATACTGATGTAGTCACGCTTTATCGTTTTCACGAAGCTCTCTGCTATTCCGTTACTCTCCGGACTCCGCACCGCCGTGTTCTTCGGTTCAAGTCCCAACATCCGGGCGAACTGGCGTGTTTCATTAGCCCGGTAGCATGAACCATTATCCGTCAGCCACTCCACTGGAGACGACGGAAGATCGTTGCCGAAGCGGCGTTCCACCGCTCCCAGCATGACGTCCTGTACTGTTTCACTGTTGAAGCCGCCGGTAGTGACCGCCCAGTGCAGTGCCTCACGATCACAGCAGTCCAGCGCGAACGTGACACGCAGTCTCTCTCCGTTATCACAGCAGAACTCGAACCCGTCAGAGCACCATCGCTGATTGCTTTCTTTCACGGCCACTCTGCCTGTATGTGCCCGTTTCGATGGCGGTACAGCAGGTTTTCGCTCAAGCAACAGCGCATTCTGGCGCATGATCCGGTAAACACGTTTGGCATTGATCGCAGGCATACCATCAAGTTCTGCCTGTCTGCGAAGCAGCGCCCATACCCGACGATAACCATACGTTGGCAGCTCTCCGATAACATGGTGTATACGGAGAAGCACATCCGTATCATCAGTGTGACGACTGCGGCGGCCATCCATCCAGTCATCGGTTCGTCTGAGAATGACGTGCAACTGCGCACGCGACACCCGGAGACAACGGCTGACTAAGCTTACTCCCCATCCCCGGGCAATAAGGGCGCGTGCGCTATCCACTTTTTTGCCCGTCCATATTCAACGGCTTCTTTGAGGAGTTCATTTTCCATCGTTTTCTTGCCGAGCAGGCGCTGGAGTTCTTTAATCTGCTTCATGGCGGCAGCAAGTTCAGAGGCAGGAACAACCTGTTCTCCGGCGGCGACAGCAGTAAGACTTCCTTCCTGGTATTGCTTACGCCAGAGAAATAACTGGCTGGCTGCTACACCATGTTGCCGGGCAACGAGGGAGACCGTCATCCCCGGTTCAAAGCTCTGCTGAACAATTGCGATCTTTTCCTGTGTGGTACGCCGTCTGCGTTTCTCCGGCCCTAAGACATCAATCATCTGTTCTCCAATGACTAGTCTAAAAACTAGTATTAAGACTATCACTTATTTAAGTGATATTGGTTGTCTGGAGATTCAGGGGGCCAGTCTA\n"
     ]
    }
   ],
   "source": [
    "for a in presek:\n",
    "    print(\"CPAI presek dc \"+a[0]+\" \"+str(a[1])+\" \"+str(a[2])+\" \"+a[6])"
   ]
  },
  {
   "cell_type": "code",
   "execution_count": 15,
   "id": "77a257de-7f43-4a04-9ded-28a53c28bae3",
   "metadata": {},
   "outputs": [
    {
     "data": {
      "text/plain": [
       "1404890"
      ]
     },
     "execution_count": 15,
     "metadata": {},
     "output_type": "execute_result"
    }
   ],
   "source": [
    "len(van)"
   ]
  }
 ],
 "metadata": {
  "kernelspec": {
   "display_name": "Python 3 (ipykernel)",
   "language": "python",
   "name": "python3"
  },
  "language_info": {
   "codemirror_mode": {
    "name": "ipython",
    "version": 3
   },
   "file_extension": ".py",
   "mimetype": "text/x-python",
   "name": "python",
   "nbconvert_exporter": "python",
   "pygments_lexer": "ipython3",
   "version": "3.11.6"
  }
 },
 "nbformat": 4,
 "nbformat_minor": 5
}
